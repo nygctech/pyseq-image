{
 "cells": [
  {
   "cell_type": "code",
   "execution_count": null,
   "metadata": {},
   "outputs": [],
   "source": [
    "import zarr\n",
    "import numpy as np\n",
    "import anndata\n",
    "import scipy as sp\n",
    "import numpy as np\n",
    "import matplotlib.pyplot as plt\n",
    "import dask\n",
    "from pyseq import image_analysis as ia\n",
    "import warnings\n",
    "warnings.filterwarnings('ignore')\n",
    "from dask.distributed import Client\n",
    "import numba\n",
    "import joblib\n",
    "import skimage\n",
    "import time\n",
    "from joblib import Parallel, delayed\n",
    "from joblib import parallel_backend\n",
    "from dask.distributed import progress\n",
    "%run /gpfs/commons/home/jsingh/util_pyseq.ipynb"
   ]
  },
  {
   "cell_type": "code",
   "execution_count": null,
   "metadata": {},
   "outputs": [],
   "source": [
    "#Loading Data\n",
    "im = ia.get_HiSeqImages(image_path = 'zarrs/m387ntga2.zarr')\n",
    "labels = skimage.io.imread('/gpfs/commons/groups/nygcfaculty/PySeq/20210428_mouse_genotype_2/segmented_sections/m387ntga2_labels.tiff')\n",
    "labels = dask.array.asarray(labels)"
   ]
  },
  {
   "cell_type": "code",
   "execution_count": null,
   "metadata": {},
   "outputs": [],
   "source": [
    "#format = one_z_plane_obj_step_channel_cycle\n",
    "array_object_list = []\n",
    "name_object_list = []\n",
    "for i in im.im['channel'].values:\n",
    "    for j in im.im['cycle'].values:\n",
    "        #for k #in im.im['obj_step'].values[1]:\n",
    "            k = 8028\n",
    "            name = \"one_x_plane_\"+str(i)+\"_\"+str(j)+\"_\"+str(k)\n",
    "            name_object_list.append(name)\n",
    "            nme = im.im.sel(obj_step = k, cycle=j, channel = i)\n",
    "            array_object_list.append(nme)\n",
    "        "
   ]
  },
  {
   "cell_type": "code",
   "execution_count": null,
   "metadata": {},
   "outputs": [],
   "source": [
    "############ INITIATING CLUSTER ####################"
   ]
  },
  {
   "cell_type": "code",
   "execution_count": null,
   "metadata": {},
   "outputs": [],
   "source": [
    "def get_cluster(queue_name = 'pe2', log_dir=None):\n",
    "    \"\"\" Make dask cluster w/ workers = 2 cores, 32 G mem, and 1 hr wall time.\n",
    "\n",
    "        return cluster, client\n",
    "    \"\"\"\n",
    "\n",
    "    if log_dir is None:\n",
    "        log_dir = join(getcwd(),'dask_logs')\n",
    "        makedirs(log_dir, exist_ok=True)\n",
    "\n",
    "    cluster = SLURMCluster(\n",
    "                queue = queue_name, \n",
    "                cores = 12 ,\n",
    "                memory = '128G',\n",
    "                walltime='1:00:00',\n",
    "                log_directory=log_dir)\n",
    "                #extra=[\"--lifetime\", \"55m\", \"--lifetime-stagger\", \"4m\"])\n",
    "    client = Client(cluster)\n",
    "\n",
    "    return cluster, client\n",
    "\n",
    "cluster, client = get_cluster()"
   ]
  },
  {
   "cell_type": "code",
   "execution_count": null,
   "metadata": {},
   "outputs": [],
   "source": [
    "def scale_cluster: \n",
    "    cluster.scale(15)\n",
    "    return cluster.dashboard_link"
   ]
  },
  {
   "cell_type": "code",
   "execution_count": null,
   "metadata": {},
   "outputs": [],
   "source": [
    "#Or specify cores or memory directly"
   ]
  },
  {
   "cell_type": "code",
   "execution_count": null,
   "metadata": {},
   "outputs": [],
   "source": [
    "plane = array_object_list[0] #sample plane "
   ]
  },
  {
   "cell_type": "code",
   "execution_count": null,
   "metadata": {},
   "outputs": [],
   "source": [
    "#Way 1: Using Data As Is (No Persit) with Dask Futures\n",
    "plane = array_object_list[0]\n",
    "def get_pixels(lab):\n",
    "    m = plane.values[labels == lab+1].mean()\n",
    "    return m\n",
    "\n",
    "futures = client.map(get_pixels, range(5))\n",
    "progress(futures)\n",
    "\n",
    "result_list = np.zeros(20)\n",
    "for i in range(len(futures)):\n",
    "    result_list[i] = futures[i].result()\n",
    "    \n",
    "    "
   ]
  },
  {
   "cell_type": "code",
   "execution_count": null,
   "metadata": {},
   "outputs": [],
   "source": [
    "#Way 2: Using with Dask Persist with Dask Futures\n",
    "plane_persisted = array_object_list[0].persist()\n",
    "def get_pixels(lab):\n",
    "    m = plane_persisted.values[labels == lab+1].mean()\n",
    "    return m\n",
    "from dask.distributed import progress\n",
    "futures = client.map(get_pixels, range(5))\n",
    "progress(futures)\n",
    "\n",
    "\n",
    "result_list = np.zeros(20)\n",
    "for i in range(len(futures)):\n",
    "    result_list[i] = futures[i].result()"
   ]
  },
  {
   "cell_type": "code",
   "execution_count": null,
   "metadata": {},
   "outputs": [],
   "source": [
    "%%time\n",
    "#Way 3: Computing the same using dask compute without persisting Data\n",
    "def get_pixels(lab):\n",
    "    m = plane.values[labels == lab+1].mean()\n",
    "    return m\n",
    "\n",
    "with parallel_backend('dask',scheduler_host=cluster.scheduler._address):\n",
    "    results = Parallel(n_jobs=-1)(delayed(get_pixels_persisted)(lab) for lab in range(100))"
   ]
  },
  {
   "cell_type": "code",
   "execution_count": null,
   "metadata": {},
   "outputs": [],
   "source": [
    "%%time\n",
    "#Way 4: Computing way 3 with persist\n",
    "def get_pixels(lab):\n",
    "    m = plane_persisted.values[labels == lab+1].mean()\n",
    "    return m\n",
    "\n",
    "with parallel_backend('dask',scheduler_host=cluster.scheduler._address):\n",
    "    results = Parallel(n_jobs=-1)(delayed(get_pixels_persisted)(lab) for lab in range(100))"
   ]
  },
  {
   "cell_type": "code",
   "execution_count": null,
   "metadata": {},
   "outputs": [],
   "source": [
    "dk = dask.array.asarray(plane.values)"
   ]
  },
  {
   "cell_type": "code",
   "execution_count": null,
   "metadata": {},
   "outputs": [],
   "source": [
    "#Way 5: Dask Masked Array\n",
    "dk = dask.array.asarray(plane.values)\n",
    "def get_pixels(lab):\n",
    "    m = dask.array.ma.masked_array(dk,np.squeeze([labels == lab]))\n",
    "    mv = dask.array.mean(m)\n",
    "    return mv\n",
    "\n",
    "futures = client.map(get_pixels, range(5))\n",
    "\n",
    "result_list = np.zeros(20)\n",
    "for i in range(len(futures)):\n",
    "    result_list[i] = futures[i].result()\n",
    "    \n",
    "    \n"
   ]
  },
  {
   "cell_type": "code",
   "execution_count": null,
   "metadata": {},
   "outputs": [],
   "source": [
    "#Way 6: Dask Masked Array With Persist \n",
    "dk = dask.array.asarray(persisted_plane.values)\n",
    "def get_pixels(lab):\n",
    "    m = dask.array.ma.masked_array(dk,np.squeeze([labels == lab]))\n",
    "    mv = dask.array.mean(m)\n",
    "    return mv\n",
    "\n",
    "futures = client.map(get_pixels, range(5))\n",
    "\n",
    "result_list = np.zeros(20)\n",
    "for i in range(len(futures)):\n",
    "    result_list[i] = futures[i].result()\n",
    "    \n",
    "\n"
   ]
  },
  {
   "cell_type": "code",
   "execution_count": null,
   "metadata": {},
   "outputs": [],
   "source": [
    "#Way 5 using joblib \n",
    "def get_pixels(lab):\n",
    "    m = dask.array.ma.masked_array(dk,np.squeeze([labels == lab]))\n",
    "    mv = dask.array.mean(m)\n",
    "    return mv\n",
    "\n",
    "with parallel_backend('dask',scheduler_host=cluster.scheduler._address):\n",
    "    results = Parallel(n_jobs=-1)(delayed(get_pixels)(lab) for lab in range(100))\n",
    "\n",
    "\n",
    "\n",
    "\n",
    "\n"
   ]
  },
  {
   "cell_type": "code",
   "execution_count": null,
   "metadata": {},
   "outputs": [],
   "source": [
    "#Way x : Dask image functions\n",
    "import dask_image\n",
    "\n",
    "index = list(range(11232))\n",
    "del index[0]\n",
    "\n",
    "ar = dask_image.ndmeasure.labeled_comprehension(image = plane, \n",
    "                                                label_image = labels, index = index, func = dask_image.ndmeasure.mean,\n",
    "                                                out_dtype = float, default = None, pass_positions = False)\n",
    "v = ar.compute()"
   ]
  },
  {
   "cell_type": "code",
   "execution_count": null,
   "metadata": {},
   "outputs": [],
   "source": [
    "#ADJUSTING TIMEOUT"
   ]
  },
  {
   "cell_type": "code",
   "execution_count": null,
   "metadata": {},
   "outputs": [],
   "source": [
    "client.close()\n",
    "cluster.close()"
   ]
  },
  {
   "cell_type": "code",
   "execution_count": null,
   "metadata": {},
   "outputs": [],
   "source": []
  }
 ],
 "metadata": {
  "kernelspec": {
   "display_name": "spatial",
   "language": "python",
   "name": "spatial"
  },
  "language_info": {
   "codemirror_mode": {
    "name": "ipython",
    "version": 3
   },
   "file_extension": ".py",
   "mimetype": "text/x-python",
   "name": "python",
   "nbconvert_exporter": "python",
   "pygments_lexer": "ipython3",
   "version": "3.9.12"
  }
 },
 "nbformat": 4,
 "nbformat_minor": 2
}
